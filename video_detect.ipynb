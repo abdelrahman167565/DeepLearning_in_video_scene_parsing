{
  "nbformat": 4,
  "nbformat_minor": 0,
  "metadata": {
    "colab": {
      "name": "video_detect.ipynb",
      "provenance": [],
      "collapsed_sections": []
    },
    "kernelspec": {
      "name": "python3",
      "display_name": "Python 3"
    },
    "accelerator": "GPU"
  },
  "cells": [
    {
      "cell_type": "markdown",
      "metadata": {
        "id": "loIdjM2PAvpE"
      },
      "source": [
        "abdelrahman amer"
      ]
    },
    {
      "cell_type": "code",
      "metadata": {
        "id": "1xhWv0npYZZE"
      },
      "source": [
        "import cv2\n",
        "import tensorflow as tf"
      ],
      "execution_count": null,
      "outputs": []
    },
    {
      "cell_type": "code",
      "metadata": {
        "colab": {
          "base_uri": "https://localhost:8080/"
        },
        "id": "KuWVf5WSpiWV",
        "outputId": "2d544e2d-59f8-402c-eec0-9579a6d3b903"
      },
      "source": [
        "from google.colab import drive\n",
        "drive.mount('/content/drive')"
      ],
      "execution_count": null,
      "outputs": [
        {
          "output_type": "stream",
          "text": [
            "Mounted at /content/drive\n"
          ],
          "name": "stdout"
        }
      ]
    },
    {
      "cell_type": "code",
      "metadata": {
        "id": "f7pOSxb7jVum"
      },
      "source": [
        "import collections\n",
        "import numpy as np\n",
        "import PIL.Image as Image\n",
        "import PIL.ImageColor as ImageColor\n",
        "import PIL.ImageDraw as ImageDraw\n",
        "import PIL.ImageFont as ImageFont\n",
        "import six\n",
        "import tensorflow as tf\n",
        "\n",
        "\n",
        "_TITLE_LEFT_MARGIN = 10\n",
        "_TITLE_TOP_MARGIN = 10\n",
        "STANDARD_COLORS = [\n",
        "    'AliceBlue', 'Chartreuse', 'Aqua', 'Aquamarine', 'Azure', 'Beige', 'Bisque',\n",
        "    'BlanchedAlmond', 'BlueViolet', 'BurlyWood', 'CadetBlue', 'AntiqueWhite',\n",
        "    'Chocolate', 'Coral', 'CornflowerBlue', 'Cornsilk', 'Crimson', 'Cyan',\n",
        "    'DarkCyan', 'DarkGoldenRod', 'DarkGrey', 'DarkKhaki', 'DarkOrange',\n",
        "    'DarkOrchid', 'DarkSalmon', 'DarkSeaGreen', 'DarkTurquoise', 'DarkViolet',\n",
        "    'DeepPink', 'DeepSkyBlue', 'DodgerBlue', 'FireBrick', 'FloralWhite',\n",
        "    'ForestGreen', 'Fuchsia', 'Gainsboro', 'GhostWhite', 'Gold', 'GoldenRod',\n",
        "    'Salmon', 'Tan', 'HoneyDew', 'HotPink', 'IndianRed', 'Ivory', 'Khaki',\n",
        "    'Lavender', 'LavenderBlush', 'LawnGreen', 'LemonChiffon', 'LightBlue',\n",
        "    'LightCoral', 'LightCyan', 'LightGoldenRodYellow', 'LightGray', 'LightGrey',\n",
        "    'LightGreen', 'LightPink', 'LightSalmon', 'LightSeaGreen', 'LightSkyBlue',\n",
        "    'LightSlateGray', 'LightSlateGrey', 'LightSteelBlue', 'LightYellow', 'Lime',\n",
        "    'LimeGreen', 'Linen', 'Magenta', 'MediumAquaMarine', 'MediumOrchid',\n",
        "    'MediumPurple', 'MediumSeaGreen', 'MediumSlateBlue', 'MediumSpringGreen',\n",
        "    'MediumTurquoise', 'MediumVioletRed', 'MintCream', 'MistyRose', 'Moccasin',\n",
        "    'NavajoWhite', 'OldLace', 'Olive', 'OliveDrab', 'Orange', 'OrangeRed',\n",
        "    'Orchid', 'PaleGoldenRod', 'PaleGreen', 'PaleTurquoise', 'PaleVioletRed',\n",
        "    'PapayaWhip', 'PeachPuff', 'Peru', 'Pink', 'Plum', 'PowderBlue', 'Purple',\n",
        "    'Red', 'RosyBrown', 'RoyalBlue', 'SaddleBrown', 'Green', 'SandyBrown',\n",
        "    'SeaGreen', 'SeaShell', 'Sienna', 'Silver', 'SkyBlue', 'SlateBlue',\n",
        "    'SlateGray', 'SlateGrey', 'Snow', 'SpringGreen', 'SteelBlue', 'GreenYellow',\n",
        "    'Teal', 'Thistle', 'Tomato', 'Turquoise', 'Violet', 'Wheat', 'White',\n",
        "    'WhiteSmoke', 'Yellow', 'YellowGreen'\n",
        "]\n",
        "\n",
        "\n",
        "def save_image_array_as_png(image, output_path):\n",
        "  \"\"\"save numpy array img to png.\n",
        "  Args:\n",
        "    numpy array img h,w,3.\n",
        "   path to where the image will be written.\n",
        "  \"\"\"\n",
        "  image_pil = Image.fromarray(np.uint8(image)).convert('RGB')\n",
        "  with tf.gfile.Open(output_path, 'w') as fid:\n",
        "    image_pil.save(fid, 'PNG')\n",
        "\n",
        "\n",
        "def encode_image_array_as_png_str(image):\n",
        "  \"\"\"Encodes a numpy array into a PNG string.\n",
        "  Args:\n",
        "    numpy array img h,w,3.\n",
        "  Returns:\n",
        "    PNG encoded image string.\n",
        "  \"\"\"\n",
        "  image_pil = Image.fromarray(np.uint8(image))\n",
        "  output = six.StringIO()\n",
        "  image_pil.save(output, format='PNG')\n",
        "  png_string = output.getvalue()\n",
        "  output.close()\n",
        "  return png_string\n",
        "\n",
        "\n",
        "def draw_bounding_box_on_image_array(image,\n",
        "                                     ymin,\n",
        "                                     xmin,\n",
        "                                     ymax,\n",
        "                                     xmax,\n",
        "                                     color='red',\n",
        "                                     thickness=4,\n",
        "                                     display_str_list=(),\n",
        "                                     use_normalized_coordinates=True):\n",
        "  \"\"\"draw the bounding boxes with coordinates\n",
        "  Args:\n",
        "    numpy array img h,w,3.\n",
        "    ymin: ymin cooridnate of bounding box \n",
        "    xmin: xmin cooridnate of bounding box\n",
        "    ymax: ymax cooridnate of bounding box\n",
        "    xmax: xmax cooridnate of bounding box\n",
        "    color: color to draw bounding box.\n",
        "    thickness: line width.\n",
        "    display_str_list: list of strings to display in box\n",
        "    use_normalized_coordinates: treats cooridnates relative to img set to true\n",
        "  \"\"\"\n",
        "  image_pil = Image.fromarray(np.uint8(image)).convert('RGB')\n",
        "  draw_bounding_box_on_image(image_pil, ymin, xmin, ymax, xmax, color,\n",
        "                             thickness, display_str_list,\n",
        "                             use_normalized_coordinates)\n",
        "  np.copyto(image, np.array(image_pil))\n",
        "\n",
        "\n",
        "def draw_bounding_box_on_image(image,\n",
        "                               ymin,\n",
        "                               xmin,\n",
        "                               ymax,\n",
        "                               xmax,\n",
        "                               color='red',\n",
        "                               thickness=4,\n",
        "                               display_str_list=(),\n",
        "                               use_normalized_coordinates=True):\n",
        "  \n",
        "  draw = ImageDraw.Draw(image)\n",
        "  im_width, im_height = image.size\n",
        "  if use_normalized_coordinates:\n",
        "    (left, right, top, bottom) = (xmin * im_width, xmax * im_width,\n",
        "                                  ymin * im_height, ymax * im_height)\n",
        "  else:\n",
        "    (left, right, top, bottom) = (xmin, xmax, ymin, ymax)\n",
        "  draw.line([(left, top), (left, bottom), (right, bottom),\n",
        "             (right, top), (left, top)], width=thickness, fill=color)\n",
        "  try:\n",
        "    font = ImageFont.truetype('arial.ttf', 24)\n",
        "  except IOError:\n",
        "    font = ImageFont.load_default()\n",
        "\n",
        "  text_bottom = top\n",
        "\n",
        "  # Reverse list and print from bottom to top.\n",
        "  for display_str in display_str_list[::-1]:\n",
        "    text_width, text_height = font.getsize(display_str)\n",
        "    margin = np.ceil(0.05 * text_height)\n",
        "    draw.rectangle(\n",
        "        [(left, text_bottom - text_height - 2 * margin), (left + text_width,\n",
        "                                                          text_bottom)],\n",
        "        fill=color)\n",
        "    draw.text(\n",
        "        (left + margin, text_bottom - text_height - margin),\n",
        "        display_str,\n",
        "        fill='black',\n",
        "        font=font)\n",
        "    text_bottom -= text_height - 2 * margin\n",
        "\n",
        "\n",
        "def draw_bounding_boxes_on_image_array(image,\n",
        "                                       boxes,\n",
        "                                       color='red',\n",
        "                                       thickness=4,\n",
        "                                       display_str_list_list=()):\n",
        "  \"\"\"Draws bounding boxes on image (numpy array).\n",
        "  Args:\n",
        "    image: a numpy array object.\n",
        "    boxes: a 2D numpy array of [N, 4]. n for coordinates\n",
        "    display_str_list_list: list of list of strings.\n",
        "                           a list of strings for each bounding box.\n",
        "                           if tere is multible labels\n",
        "  \n",
        "  \"\"\"\n",
        "  image_pil = Image.fromarray(image)\n",
        "  draw_bounding_boxes_on_image(image_pil, boxes, color, thickness,\n",
        "                               display_str_list_list)\n",
        "  np.copyto(image, np.array(image_pil))\n",
        "\n",
        "\n",
        "def draw_bounding_boxes_on_image(image,\n",
        "                                 boxes,\n",
        "                                 color='red',\n",
        "                                 thickness=4,\n",
        "                                 display_str_list_list=()):\n",
        "\n",
        "  boxes_shape = boxes.shape\n",
        "  if not boxes_shape:\n",
        "    return\n",
        "  if len(boxes_shape) != 2 or boxes_shape[1] != 4:\n",
        "    raise ValueError('Input must be of size [N, 4]')\n",
        "  for i in range(boxes_shape[0]):\n",
        "    display_str_list = ()\n",
        "    if display_str_list_list:\n",
        "      display_str_list = display_str_list_list[i]\n",
        "    draw_bounding_box_on_image(image, boxes[i, 0], boxes[i, 1], boxes[i, 2],\n",
        "                               boxes[i, 3], color, thickness, display_str_list)\n",
        "\n",
        "\n",
        "def draw_keypoints_on_image_array(image,\n",
        "                                  keypoints,\n",
        "                                  color='red',\n",
        "                                  radius=2,\n",
        "                                  use_normalized_coordinates=True):\n",
        "  \"\"\"Drawing key points in img array\n",
        "  Args:\n",
        "    key points (numpy array [n,2] )\n",
        "    color\n",
        "    radius of the key point \n",
        "  \"\"\"\n",
        "  image_pil = Image.fromarray(np.uint8(image)).convert('RGB')\n",
        "  draw_keypoints_on_image(image_pil, keypoints, color, radius,\n",
        "                          use_normalized_coordinates)\n",
        "  np.copyto(image, np.array(image_pil))\n",
        "\n",
        "\n",
        "def draw_keypoints_on_image(image,\n",
        "                            keypoints,\n",
        "                            color='red',\n",
        "                            radius=2,\n",
        "                            use_normalized_coordinates=True):\n",
        "#Draws keypoints on an image.\n",
        "\n",
        "  draw = ImageDraw.Draw(image)\n",
        "  im_width, im_height = image.size\n",
        "  keypoints_x = [k[1] for k in keypoints]\n",
        "  keypoints_y = [k[0] for k in keypoints]\n",
        "  if use_normalized_coordinates:\n",
        "    keypoints_x = tuple([im_width * x for x in keypoints_x])\n",
        "    keypoints_y = tuple([im_height * y for y in keypoints_y])\n",
        "  for keypoint_x, keypoint_y in zip(keypoints_x, keypoints_y):\n",
        "    draw.ellipse([(keypoint_x - radius, keypoint_y - radius),\n",
        "                  (keypoint_x + radius, keypoint_y + radius)],\n",
        "                 outline=color, fill=color)\n",
        "\n",
        "\n",
        "def draw_mask_on_image_array(image, mask, color='red', alpha=0.7):\n",
        "  \"\"\"Draws mask on an image.\n",
        "  Args:\n",
        "    numpy array img h,w,3.\n",
        "    float numpy array mask of shap [h,h]\n",
        "    color:\n",
        "    alpha: transparency value between 0 and 1. (default: 0.7)\n",
        "  \"\"\"\n",
        "  if image.dtype != np.uint8:\n",
        "    raise ValueError('`image` not of type np.uint8')\n",
        "  if mask.dtype != np.float32:\n",
        "    raise ValueError('`mask` not of type np.float32')\n",
        "  if np.any(np.logical_or(mask > 1.0, mask < 0.0)):\n",
        "    raise ValueError('`mask` elements should be in [0, 1]')\n",
        "  rgb = ImageColor.getrgb(color)\n",
        "  pil_image = Image.fromarray(image)\n",
        "\n",
        "  solid_color = np.expand_dims(\n",
        "      np.ones_like(mask), axis=2) * np.reshape(list(rgb), [1, 1, 3])\n",
        "  pil_solid_color = Image.fromarray(np.uint8(solid_color)).convert('RGBA')\n",
        "  pil_mask = Image.fromarray(np.uint8(255.0*alpha*mask)).convert('L')\n",
        "  pil_image = Image.composite(pil_solid_color, pil_image, pil_mask)\n",
        "  np.copyto(image, np.array(pil_image.convert('RGB')))\n",
        "\n",
        "\n",
        "def visualize_boxes_and_labels_on_image_array(image,\n",
        "                                              boxes,\n",
        "                                              classes,\n",
        "                                              scores,\n",
        "                                              category_index,\n",
        "                                              instance_masks=None,\n",
        "                                              keypoints=None,\n",
        "                                              use_normalized_coordinates=False,\n",
        "                                              max_boxes_to_draw=20,\n",
        "                                              min_score_thresh=.5,\n",
        "                                              agnostic_mode=False,\n",
        "                                              line_thickness=4):\n",
        "  \"\"\"Overlay labeled boxes on an image with formatted scores and label names.\n",
        "  Args:\n",
        " numpy array img h,w,3.\n",
        "      boxes: numpy array of [N, 4]. n for coordina\n",
        "    classes: a numpy array\n",
        "    scores\n",
        "    category_index: from label map\n",
        "    instance_masks: numpy array  of shap [h,h]\n",
        "    key points: numpy array shape [n, keypoints num ,2] \n",
        "  \n",
        "    use_normalized_coordinates: \n",
        "    max_boxes_to_draw: \n",
        "    min_score_thresh: \n",
        "    agnostic_mode: display score without classifications (false)\n",
        "    line_thickness: width of the borders of the box.\n",
        "  \"\"\"\n",
        "  # Create a display string for color, location of box and group boxes that are at the same location\n",
        "  box_to_display_str_map = collections.defaultdict(list)\n",
        "  box_to_color_map = collections.defaultdict(str)\n",
        "  box_to_instance_masks_map = {}\n",
        "  box_to_keypoints_map = collections.defaultdict(list)\n",
        "  if not max_boxes_to_draw:\n",
        "    max_boxes_to_draw = boxes.shape[0]\n",
        "  for i in range(min(max_boxes_to_draw, boxes.shape[0])):\n",
        "    if scores is None or scores[i] > min_score_thresh:\n",
        "      box = tuple(boxes[i].tolist())\n",
        "      if instance_masks is not None:\n",
        "        box_to_instance_masks_map[box] = instance_masks[i]\n",
        "      if keypoints is not None:\n",
        "        box_to_keypoints_map[box].extend(keypoints[i])\n",
        "      if scores is None:\n",
        "        box_to_color_map[box] = 'black'\n",
        "      else:\n",
        "        if not agnostic_mode:\n",
        "          if classes[i] in category_index.keys():\n",
        "            class_name = category_index[classes[i]]\n",
        "          else:\n",
        "            class_name = 'N/A'\n",
        "          display_str = '{}: {}%'.format(\n",
        "              class_name,\n",
        "              int(100*scores[i]))\n",
        "        else:\n",
        "          display_str = 'score: {}%'.format(int(100 * scores[i]))\n",
        "        box_to_display_str_map[box].append(display_str)\n",
        "        if agnostic_mode:\n",
        "          box_to_color_map[box] = 'DarkOrange'\n",
        "        else:\n",
        "          box_to_color_map[box] = STANDARD_COLORS[\n",
        "              classes[i] % len(STANDARD_COLORS)]\n",
        "\n",
        "  # Draw all boxes onto image.\n",
        "  for box, color in six.iteritems(box_to_color_map):\n",
        "    ymin, xmin, ymax, xmax = box\n",
        "    if instance_masks is not None:\n",
        "      draw_mask_on_image_array(\n",
        "          image,\n",
        "          box_to_instance_masks_map[box],\n",
        "          color=color\n",
        "      )\n",
        "    draw_bounding_box_on_image_array(\n",
        "        image,\n",
        "        ymin,\n",
        "        xmin,\n",
        "        ymax,\n",
        "        xmax,\n",
        "        color=color,\n",
        "        thickness=line_thickness,\n",
        "        display_str_list=box_to_display_str_map[box],\n",
        "        use_normalized_coordinates=use_normalized_coordinates)\n",
        "    if keypoints is not None:\n",
        "      draw_keypoints_on_image_array(\n",
        "          image,\n",
        "          box_to_keypoints_map[box],\n",
        "          color=color,\n",
        "          radius=line_thickness / 2,\n",
        "          use_normalized_coordinates=use_normalized_coordinates)"
      ],
      "execution_count": null,
      "outputs": []
    },
    {
      "cell_type": "code",
      "metadata": {
        "colab": {
          "base_uri": "https://localhost:8080/"
        },
        "id": "g1ZQ0GTgku8I",
        "outputId": "ee559c46-968c-45f4-abe4-9c9660d15146"
      },
      "source": [
        "#the saved model of trained EfficientDet checkpoints\n",
        "!unzip /content/drive/MyDrive/saved_model.zip"
      ],
      "execution_count": null,
      "outputs": [
        {
          "output_type": "stream",
          "text": [
            "Archive:  /content/drive/MyDrive/saved_model.zip\n",
            "   creating: saved_model/assets/\n",
            "  inflating: saved_model/variables/variables.index  \n",
            "  inflating: saved_model/variables/variables.data-00000-of-00001  \n",
            "  inflating: saved_model/saved_model.pb  \n"
          ],
          "name": "stdout"
        }
      ]
    },
    {
      "cell_type": "markdown",
      "metadata": {
        "id": "oZTT6pUAXJRB"
      },
      "source": [
        "The function below converts a label map file to a dictionary key points to number and value of the key's label"
      ]
    },
    {
      "cell_type": "code",
      "metadata": {
        "id": "odUDSv5lkmsm"
      },
      "source": [
        "def read_label_map(file):\n",
        "   f = open(file)\n",
        "   data = f.read()\n",
        "   data = data.strip().rstrip('\\n')\n",
        "   data = data.replace('\\n', '')\n",
        "   data_lst = data.split('item')\n",
        "   data_lst = [d for d in data_lst if not d=='']\n",
        "   f.close()\n",
        "   return dict([(int(b[b.index('id')+3:b.index('name')].strip()),\n",
        "\tb[b.index('name')+5:b.index('}')].strip().replace(\"'\",\"\")) for b in data_lst])"
      ],
      "execution_count": null,
      "outputs": []
    },
    {
      "cell_type": "code",
      "metadata": {
        "id": "cZoEXd6okov9"
      },
      "source": [
        "category_index = read_label_map('/content/drive/MyDrive/driving_label_map.pbtxt') "
      ],
      "execution_count": null,
      "outputs": []
    },
    {
      "cell_type": "markdown",
      "metadata": {
        "id": "qSAsng-hWxLJ"
      },
      "source": [
        "load the saved model"
      ]
    },
    {
      "cell_type": "code",
      "metadata": {
        "colab": {
          "base_uri": "https://localhost:8080/"
        },
        "id": "8X3mkf88kz8u",
        "outputId": "cfb5f342-325b-4586-91f2-9c77ab5f3676"
      },
      "source": [
        "PATH_TO_SAVED_MODEL = \"./saved_model\"\n",
        "\n",
        "# # Load saved model and build the detection function\n",
        "detect_fn = tf.saved_model.load(PATH_TO_SAVED_MODEL)"
      ],
      "execution_count": null,
      "outputs": [
        {
          "output_type": "stream",
          "text": [
            "WARNING:absl:Importing a function (__inference_bifpn_layer_call_and_return_conditional_losses_65723) with ops with custom gradients. Will likely fail if a gradient is requested.\n",
            "WARNING:absl:Importing a function (__inference_EfficientDet-D0_layer_call_and_return_conditional_losses_83591) with ops with custom gradients. Will likely fail if a gradient is requested.\n",
            "WARNING:absl:Importing a function (__inference_EfficientDet-D0_layer_call_and_return_conditional_losses_96812) with ops with custom gradients. Will likely fail if a gradient is requested.\n",
            "WARNING:absl:Importing a function (__inference_call_func_22092) with ops with custom gradients. Will likely fail if a gradient is requested.\n",
            "WARNING:absl:Importing a function (__inference_bifpn_layer_call_and_return_conditional_losses_67343) with ops with custom gradients. Will likely fail if a gradient is requested.\n",
            "WARNING:absl:Importing a function (__inference_EfficientDet-D0_layer_call_and_return_conditional_losses_87199) with ops with custom gradients. Will likely fail if a gradient is requested.\n",
            "WARNING:absl:Importing a function (__inference_EfficientDet-D0_layer_call_and_return_conditional_losses_93204) with ops with custom gradients. Will likely fail if a gradient is requested.\n"
          ],
          "name": "stderr"
        }
      ]
    },
    {
      "cell_type": "markdown",
      "metadata": {
        "id": "Y8yzJNzBXknr"
      },
      "source": [
        "reads an input video"
      ]
    },
    {
      "cell_type": "code",
      "metadata": {
        "id": "pBPpxuURYdqk"
      },
      "source": [
        "cap = cv2.VideoCapture('/content/drive/MyDrive/70MAI A800 4K Car Driving Recorder DVR Dashcam Sample Footage _ Daytime.mp4') "
      ],
      "execution_count": null,
      "outputs": []
    },
    {
      "cell_type": "markdown",
      "metadata": {
        "id": "GbUeqW3IZ935"
      },
      "source": [
        "output video stream to write the frames after processing\n",
        "\n"
      ]
    },
    {
      "cell_type": "code",
      "metadata": {
        "id": "g7GJgoGHZ5rz"
      },
      "source": [
        "writer = cv2.VideoWriter(\"recordinge_example.avi\", cv2.VideoWriter_fourcc('M','P','4','V'), 30,(1280,720))"
      ],
      "execution_count": null,
      "outputs": []
    },
    {
      "cell_type": "markdown",
      "metadata": {
        "id": "Ifxg7-V5YgGl"
      },
      "source": [
        "This cell reads every frame in the input video and undergo it into the EfficientDet model , the boxes will be overlayed over the frame and the frame will be re written in the output video stream"
      ]
    },
    {
      "cell_type": "code",
      "metadata": {
        "id": "2a8HP1zHY6qI"
      },
      "source": [
        "while cap.isOpened():\n",
        "  ret, frame = cap.read()\n",
        "  #print(frame.shape)\n",
        "  if ret:\n",
        "    input_tensor = tf.convert_to_tensor(frame)\n",
        "    input_tensor = input_tensor[tf.newaxis, ...]\n",
        "    detections = detect_fn(input_tensor)\n",
        "    num_detections = int(detections.pop('num_detections'))\n",
        "    detections = {key: value[0, :num_detections].numpy()\n",
        "                   for key, value in detections.items()}\n",
        "    detections['num_detections'] = num_detections\n",
        "\n",
        "    \n",
        "    detections['detection_classes'] = detections['detection_classes'].astype(np.int64)\n",
        "\n",
        "    image_np_with_detections = frame.copy()\n",
        "\n",
        "    visualize_boxes_and_labels_on_image_array(\n",
        "          image_np_with_detections,\n",
        "          detections['detection_boxes'],\n",
        "          detections['detection_classes'],\n",
        "          detections['detection_scores'],\n",
        "          category_index,\n",
        "          use_normalized_coordinates=True,\n",
        "          max_boxes_to_draw=200,\n",
        "          min_score_thresh=.40,\n",
        "          agnostic_mode=False)\n",
        "    writer.write(image_np_with_detections) #write to output video stream\n",
        "  else:\n",
        "    break\n",
        "\n",
        "writer.release()\n",
        "cap.release()"
      ],
      "execution_count": null,
      "outputs": []
    }
  ]
}